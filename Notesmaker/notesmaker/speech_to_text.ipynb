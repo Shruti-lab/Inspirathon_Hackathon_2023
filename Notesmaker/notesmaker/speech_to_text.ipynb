{
 "cells": [
  {
   "cell_type": "code",
   "execution_count": 1,
   "metadata": {},
   "outputs": [
    {
     "name": "stdout",
     "output_type": "stream",
     "text": [
      "MoviePy - Writing audio in C:\\Users\\hai\\Desktop\\INSPIRATHON\\Audio.wav\n"
     ]
    },
    {
     "name": "stderr",
     "output_type": "stream",
     "text": [
      "                                                                      "
     ]
    },
    {
     "name": "stdout",
     "output_type": "stream",
     "text": [
      "MoviePy - Done.\n"
     ]
    },
    {
     "name": "stderr",
     "output_type": "stream",
     "text": [
      "\r"
     ]
    }
   ],
   "source": [
    "# Import moviepy\n",
    "import moviepy.editor\n",
    "import speech_recognition as sr"
   ]
  },
  {
   "cell_type": "code",
   "execution_count": 2,
   "metadata": {},
   "outputs": [
    {
     "name": "stdout",
     "output_type": "stream",
     "text": [
      "Converting audio transcripts into text ...\n",
      "सेल्फ इंट्रोडक्शन सेल्फ इंट्रोडक्शन सेल्फ इंट्रोडक्शन का अर्थ होता है आत्म परिचय या अपना परिचय देना यानि जो आपका अपना खुद का परिचय है उसको आपका सेल्फ इंट्रोडक्शन कहा जाता है सेल्फ इंट्रोडक्शन देते हुए आपको मुख्य रूप से चार बातें बतानी होती है सबसे पहले आप अपना नाम बताते हैं यानी कि आप कौन है उसके बाद आप बताते हैं कि आप कहां से आते हैं कहां के रहने वाले हैं अगला आप यह बताते हैं कि आपने पढ़ाई कहां से की है कितनी पढ़ाई की है कहां तक आप पड़ी है और उसकी बात आप बताते हैं आप प्रोफेशनली क्या है यानी कि आज तक आपने कौन सी नौकरियां की है क्या नौकरी की है क्या अचीवमेंट अपने प्राप्त की है और क्या क्या आपने अपनी प्रोफेशनल लाइफ में किया हुआ है इनकी सेल्फ इंट्रोडक्शन में आपको सिर्फ यह चार चीज ही इंक्लूड करनी चाहिए इसके अलावा अगर आप कोई ऐसी जानकारी बताना चाहते हैं जो आपको लगता है की बताई जानी चाहिए तो वह भी आप सेल्फ इंट्रोडक्शन में बता सकते हैं लाइक शेयर सब्सक्राइब\n",
      "Sorry.. run again...\n"
     ]
    }
   ],
   "source": [
    "video = moviepy.editor.VideoFileClip(r\"C:\\Users\\hai\\Desktop\\INSPIRATHON\\Self introduction meaning in Hindi  Self introduction ka kya matlab hota hai  Spoken English class.mp4\")\n",
    "\n",
    "#Extract the Audio\n",
    "audio = video.audio\n",
    "\n",
    "#Export the Audio\n",
    "audio.write_audiofile(\"C:\\\\Users\\\\hai\\\\Desktop\\\\INSPIRATHON\\\\Audio.wav\")\n",
    "#Initiаlize  reсоgnizer  сlаss  (fоr  reсоgnizing  the  sрeeсh)\n",
    "r = sr.Recognizer()\n",
    "text = \"\"\n",
    "# Reading Audio file as source\n",
    "#  listening  the  аudiо  file  аnd  stоre  in  аudiо_text  vаriаble\n",
    "with sr.AudioFile(\"C:\\\\Users\\\\hai\\\\Desktop\\\\INSPIRATHON\\\\Audio.wav\") as source:\n",
    "    while True:\n",
    "        audio_text = r.listen(source,timeout=None)\n",
    "# recoginize_() method will throw a request error if the API is unreachable, hence using exception handling\n",
    "        try:\n",
    "        # using google speech recognition\n",
    "            text += r.recognize_google(audio_text,language='hi-IN')\n",
    "        except:\n",
    "            return text"
   ]
  }
 ],
 "metadata": {
  "kernelspec": {
   "display_name": "Python 3",
   "language": "python",
   "name": "python3"
  },
  "language_info": {
   "codemirror_mode": {
    "name": "ipython",
    "version": 3
   },
   "file_extension": ".py",
   "mimetype": "text/x-python",
   "name": "python",
   "nbconvert_exporter": "python",
   "pygments_lexer": "ipython3",
   "version": "3.11.2"
  },
  "orig_nbformat": 4
 },
 "nbformat": 4,
 "nbformat_minor": 2
}
